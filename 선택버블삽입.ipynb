{
  "nbformat": 4,
  "nbformat_minor": 0,
  "metadata": {
    "colab": {
      "name": "선택버블삽입.ipynb",
      "provenance": [],
      "authorship_tag": "ABX9TyPe1btyilUrUPHnACpjo5sZ",
      "include_colab_link": true
    },
    "kernelspec": {
      "name": "python3",
      "display_name": "Python 3"
    },
    "language_info": {
      "name": "python"
    }
  },
  "cells": [
    {
      "cell_type": "markdown",
      "metadata": {
        "id": "view-in-github",
        "colab_type": "text"
      },
      "source": [
        "<a href=\"https://colab.research.google.com/github/980608/Algorithm/blob/main/%EC%84%A0%ED%83%9D%EB%B2%84%EB%B8%94%EC%82%BD%EC%9E%85.ipynb\" target=\"_parent\"><img src=\"https://colab.research.google.com/assets/colab-badge.svg\" alt=\"Open In Colab\"/></a>"
      ]
    },
    {
      "cell_type": "code",
      "metadata": {
        "id": "4TdBktbsQB2H"
      },
      "source": [
        "# 큐 queue와 스택stack 복습\n",
        "\n",
        "# 큐 queue 줄서기 먼저온 사람이 먼저 백신 주사를 맞는다 . FIFO\n",
        "#  1 2 3 4 in enqueue      1 2 3 4 out dequeue\n"
      ],
      "execution_count": null,
      "outputs": []
    },
    {
      "cell_type": "code",
      "metadata": {
        "id": "n-WfAgnSQYO7"
      },
      "source": [
        "qu = [1, 2, 3, 4]"
      ],
      "execution_count": 20,
      "outputs": []
    },
    {
      "cell_type": "code",
      "metadata": {
        "colab": {
          "base_uri": "https://localhost:8080/"
        },
        "id": "6CHSIjciRAvx",
        "outputId": "fb945994-397d-40f7-f452-3ad48becd3c4"
      },
      "source": [
        "qu.pop(0)\n",
        "qu"
      ],
      "execution_count": 21,
      "outputs": [
        {
          "output_type": "execute_result",
          "data": {
            "text/plain": [
              "[2, 3, 4]"
            ]
          },
          "metadata": {},
          "execution_count": 21
        }
      ]
    },
    {
      "cell_type": "code",
      "metadata": {
        "id": "utx5KDvaRJcY"
      },
      "source": [
        "# 스택  stack 접시쌓기 나중에 올려진 접시가 먼저 나간다. LIFO\n",
        "# 1, 2, 3, 4  in push              4, 3, 2, 1 out pop"
      ],
      "execution_count": null,
      "outputs": []
    },
    {
      "cell_type": "code",
      "metadata": {
        "id": "Vyper4rHRZGR"
      },
      "source": [
        "st = [1,2,3,4]"
      ],
      "execution_count": 33,
      "outputs": []
    },
    {
      "cell_type": "code",
      "metadata": {
        "colab": {
          "base_uri": "https://localhost:8080/"
        },
        "id": "cdi3sBMKRZRv",
        "outputId": "c7ca2cbb-647b-42b6-ebc5-0bf41298d1d7"
      },
      "source": [
        "st.pop()\n",
        "st"
      ],
      "execution_count": 34,
      "outputs": [
        {
          "output_type": "execute_result",
          "data": {
            "text/plain": [
              "[1, 2, 3]"
            ]
          },
          "metadata": {},
          "execution_count": 34
        }
      ]
    },
    {
      "cell_type": "code",
      "metadata": {
        "colab": {
          "base_uri": "https://localhost:8080/"
        },
        "id": "lroQ7EUDR-KD",
        "outputId": "f49f40c4-0974-41dc-9dff-be177f0c7d70"
      },
      "source": [
        "# 회문찾기 wow madam\n",
        "\n",
        "def palin(s):\n",
        "\n",
        "  qu = []\n",
        "  st = []\n",
        "\n",
        "  for x in s:\n",
        "    qu.append(x.lower())\n",
        "    st.append(x.lower())\n",
        "  while qu:\n",
        "    if qu.pop(0) != st.pop():\n",
        "      return False\n",
        "  return True\n",
        "\n",
        "palin('hello')"
      ],
      "execution_count": 41,
      "outputs": [
        {
          "output_type": "execute_result",
          "data": {
            "text/plain": [
              "False"
            ]
          },
          "metadata": {},
          "execution_count": 41
        }
      ]
    },
    {
      "cell_type": "code",
      "metadata": {
        "id": "_ygYXgTMR-Wf"
      },
      "source": [
        "# 선택 정렬 (단순 선택)\n",
        "# 데이터를 정렬하는 알고리즘\n",
        "# 가장 작은 데이터를 선택하여 맨 앞부터 순서대로 정렬한다.\n"
      ],
      "execution_count": null,
      "outputs": []
    },
    {
      "cell_type": "code",
      "metadata": {
        "colab": {
          "base_uri": "https://localhost:8080/"
        },
        "id": "_YLT4ocnYdtf",
        "outputId": "97dfb920-6b77-41db-9425-19b34e76559b"
      },
      "source": [
        "# 가장 큰 데이터를 선택하여 맨 뒤부터 순서대로 정렬한다.\n",
        "\n",
        "def selectionSort(arr):\n",
        "  for i in range(len(arr),0,-1):\n",
        "    max = 0\n",
        "    for j in range(0, i):  # 나머지 값들 중 가장 큰 데이터를 선택한다\n",
        "      if arr[j] > arr[max]:\n",
        "        max = j\n",
        "      arr[max], arr[j] = arr[j], arr[max]  #제일 큰값과 자리 교환\n",
        "      print(arr)\n",
        "  return arr  \n",
        "\n",
        "arr = [3,1,4,2,5]\n",
        "print(selectionSort(arr))"
      ],
      "execution_count": 47,
      "outputs": [
        {
          "output_type": "stream",
          "name": "stdout",
          "text": [
            "[3, 1, 4, 2, 5]\n",
            "[1, 3, 4, 2, 5]\n",
            "[1, 3, 4, 2, 5]\n",
            "[1, 3, 2, 4, 5]\n",
            "[1, 3, 2, 4, 5]\n",
            "[1, 3, 2, 4, 5]\n",
            "[1, 3, 2, 4, 5]\n",
            "[1, 2, 3, 4, 5]\n",
            "[1, 2, 3, 4, 5]\n",
            "[1, 2, 3, 4, 5]\n",
            "[1, 2, 3, 4, 5]\n",
            "[1, 2, 3, 4, 5]\n",
            "[1, 2, 3, 4, 5]\n",
            "[1, 2, 3, 4, 5]\n",
            "[1, 2, 3, 4, 5]\n",
            "[1, 2, 3, 4, 5]\n"
          ]
        }
      ]
    },
    {
      "cell_type": "code",
      "metadata": {
        "colab": {
          "base_uri": "https://localhost:8080/"
        },
        "id": "nV72HGpUYl57",
        "outputId": "3d6ebaf4-13e6-41ba-c800-ae26b3406d95"
      },
      "source": [
        "# 버블정렬 - 단순교환법\n",
        "# 가장 큰원소를 마지막으로 보내는 방법\n",
        "\n",
        "def bubbleSort(arr):\n",
        "  for i in range(len(arr)-1,0,-1):\n",
        "    for j in range(0,i):\n",
        "      if arr[j] > arr[j+1]:\n",
        "        arr[j], arr[j+1] = arr[j+1], arr[j] # 자리 바꿈\n",
        "      print(arr)\n",
        "  return arr\n",
        "\n",
        "arr = [3,1,4,2,5]\n",
        "print(bubbleSort(arr))"
      ],
      "execution_count": 53,
      "outputs": [
        {
          "output_type": "stream",
          "name": "stdout",
          "text": [
            "[1, 3, 4, 2, 5]\n",
            "[1, 3, 4, 2, 5]\n",
            "[1, 3, 2, 4, 5]\n",
            "[1, 3, 2, 4, 5]\n",
            "[1, 3, 2, 4, 5]\n",
            "[1, 2, 3, 4, 5]\n",
            "[1, 2, 3, 4, 5]\n",
            "[1, 2, 3, 4, 5]\n",
            "[1, 2, 3, 4, 5]\n",
            "[1, 2, 3, 4, 5]\n",
            "[1, 2, 3, 4, 5]\n"
          ]
        }
      ]
    },
    {
      "cell_type": "code",
      "metadata": {
        "id": "tCzAxaWNi6mu"
      },
      "source": [
        "import random\n",
        "\n",
        "def bubbleSort(arr):\n",
        "  for i in range(len(arr)-1,0,-1):\n",
        "    for j in range(0,i):\n",
        "      if arr[j] > arr[j+1]:\n",
        "        arr[j], arr[j+1] = arr[j+1], arr[j] # 자리 바꿈\n",
        "      # print(arr)\n",
        "  return arr\n",
        "\n",
        "arr = random.sample(range(1,50),7)\n",
        "print(arr)\n",
        "print(bubbleSort(arr))"
      ],
      "execution_count": null,
      "outputs": []
    },
    {
      "cell_type": "code",
      "metadata": {
        "colab": {
          "base_uri": "https://localhost:8080/"
        },
        "id": "BsX5cwhMkNZ8",
        "outputId": "44a9fc76-3674-4ea5-cb5a-0a4a47023f16"
      },
      "source": [
        "# 삽입 정렬 - 기본 삼입법 단순 삽입법\n",
        "\n",
        "def insertionSort(arr):\n",
        "  for i in range(1,len(arr)):\n",
        "    while i > 0 and arr[i] < arr[i-1]:\n",
        "      arr[i], arr[i-1] = arr[i-1], arr[i]\n",
        "      i -= 1\n",
        "      print(arr)\n",
        "  return arr\n",
        "\n",
        "arr = [3,1,4,2,5]\n",
        "print(insertionSort(arr))"
      ],
      "execution_count": 59,
      "outputs": [
        {
          "output_type": "stream",
          "name": "stdout",
          "text": [
            "[1, 3, 4, 2, 5]\n",
            "[1, 3, 2, 4, 5]\n",
            "[1, 2, 3, 4, 5]\n",
            "[1, 2, 3, 4, 5]\n"
          ]
        }
      ]
    },
    {
      "cell_type": "code",
      "metadata": {
        "id": "LdiN7XvCuG3e"
      },
      "source": [
        "# 퀵 정렬 - 기준값을 설정하여 그 값보다 작은 그룹 큰 그룹으로 계속 나눈다.\n",
        " 1 기준값을 경계로 데이터를 대소로 나누는 처리\n",
        " 2 나눈 데이터에 대한 반복적으로"
      ],
      "execution_count": null,
      "outputs": []
    }
  ]
}