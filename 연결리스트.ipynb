{
  "nbformat": 4,
  "nbformat_minor": 0,
  "metadata": {
    "colab": {
      "name": "연결리스트.ipynb",
      "provenance": [],
      "authorship_tag": "ABX9TyOcBbLQeYI54PvPaFzzkgVa",
      "include_colab_link": true
    },
    "kernelspec": {
      "name": "python3",
      "display_name": "Python 3"
    },
    "language_info": {
      "name": "python"
    }
  },
  "cells": [
    {
      "cell_type": "markdown",
      "metadata": {
        "id": "view-in-github",
        "colab_type": "text"
      },
      "source": [
        "<a href=\"https://colab.research.google.com/github/980608/Algorithm/blob/main/%EC%97%B0%EA%B2%B0%EB%A6%AC%EC%8A%A4%ED%8A%B8.ipynb\" target=\"_parent\"><img src=\"https://colab.research.google.com/assets/colab-badge.svg\" alt=\"Open In Colab\"/></a>"
      ]
    },
    {
      "cell_type": "code",
      "metadata": {
        "id": "V7-NCXmBiAKo"
      },
      "source": [
        "# 자료구조\n",
        "\n",
        "# 단순구조 - 정수, 실수, 문자, 문자열\n",
        "# 선형구조 - 스택, 큐, 리스트, 연결리스트(*Linked List)\n",
        "# 비선형구조 - 트리, 그래프\n",
        "# 파일구조 - 순차, 색인...\n",
        "\n",
        "# 리스트 - 연속적인 저장 형태\n",
        "         # (배열 - 크기가 정해진다, 변경불가능, \n",
        "         #  리스트 - 크기가 변하구 구조)\n",
        "\n",
        "# 연결리스트 - 저장되는 각 데이터가 이전 데이터/다음 데이터를 가리키는\n",
        "#              정보가지 포함한다.(데이터 + 다음데이터 + 포인터)\n",
        "#      1,2,3       4,5,6         7,8,9\n",
        "#                이전 포인터   이전데이터  \n",
        "#     데이터       데이터        데이터\n",
        "#   다음 포인터  다음포인터"
      ],
      "execution_count": null,
      "outputs": []
    },
    {
      "cell_type": "code",
      "metadata": {
        "id": "XwHkp1QQjkRD"
      },
      "source": [
        "# 파이썬 연결리스트 자료구조(파이썬은 그냥 리스트를 사용해라)\n",
        "\n",
        "class Node: #연결 리스트 구서으이 실제 데이터 모습은 데이터 + 다음데이터 포인터\n",
        "  def __init__(self, data, next=None):\n",
        "    self.data = data\n",
        "    self.next = next\n",
        "\n",
        "def init(): # 연결리스트를 만드다. node1~node4 연결포인터로 구성\n",
        "  global node1\n",
        "  node1 = Node(1)\n",
        "  node2 = Node(2)\n",
        "  node3 = Node(3)\n",
        "  node4 = Node(4)\n",
        "  node1.next = node2\n",
        "  node2.next = node3\n",
        "  node3.next = node4"
      ],
      "execution_count": 2,
      "outputs": []
    },
    {
      "cell_type": "code",
      "metadata": {
        "colab": {
          "base_uri": "https://localhost:8080/"
        },
        "id": "RB-xMhSEpO83",
        "outputId": "d9c660c7-0764-4e50-fcb1-00f3ad200257"
      },
      "source": [
        "# 연결리스트 이용한 스택(Last in Fisrt Out) 구현\n",
        "\n",
        "class Stack():\n",
        "  stack = []\n",
        "  stack.append(1)\n",
        "  stack.append(2)\n",
        "  stack.append(3)\n",
        "  stack.append(4)\n",
        "  stack.append(5)\n",
        "  print(stack)\n",
        "\n",
        "  while stack:\n",
        "    print('POP Value is',stack.pop())\n",
        "Stack()"
      ],
      "execution_count": 6,
      "outputs": [
        {
          "output_type": "stream",
          "name": "stdout",
          "text": [
            "[1, 2, 3, 4, 5]\n",
            "POP Value is 5\n",
            "POP Value is 4\n",
            "POP Value is 3\n",
            "POP Value is 2\n",
            "POP Value is 1\n"
          ]
        },
        {
          "output_type": "execute_result",
          "data": {
            "text/plain": [
              "<__main__.Stack at 0x7f509327ce10>"
            ]
          },
          "metadata": {},
          "execution_count": 6
        }
      ]
    },
    {
      "cell_type": "code",
      "metadata": {
        "id": "D0CXzvySqcQm"
      },
      "source": [
        "K = ((a*b)-(c/d))"
      ],
      "execution_count": null,
      "outputs": []
    },
    {
      "cell_type": "code",
      "metadata": {
        "id": "abRDE5RzrI0G"
      },
      "source": [
        "# 컴퓨터가 계산하는 방식\n",
        "step 1, a\n",
        "step 2, a b\n",
        "step 3, a b *\n",
        "step 4, a b * c\n",
        "step 5, a b * c d\n",
        "step 6, a b * c d /\n",
        "step 7, a b * c d / -"
      ],
      "execution_count": null,
      "outputs": []
    },
    {
      "cell_type": "code",
      "metadata": {
        "id": "IGq6wA9yr2Wa"
      },
      "source": [
        "a b * c d / -\n",
        "\n",
        "a b a를 스택에 push 하고 b 스택에 push 한다.\n",
        "\n",
        "* -> x   *를 만나면 b스택에세 pop하고 a를 스택에서 pop한다음 *한 결과 x를 \n",
        "                                                               다시 스택에 집어 넣는다.\n",
        "\n",
        "x c d     c와 d를 스택에 push d c 를 pop한 후  c/d 연산 수행 결과 y를 push\n",
        "\n",
        "x y       y와 x를 pop한다음 연산 - 를 x-y 수행하고 그 결과 z push 스택에 넣는다."
      ],
      "execution_count": null,
      "outputs": []
    },
    {
      "cell_type": "code",
      "metadata": {
        "colab": {
          "base_uri": "https://localhost:8080/"
        },
        "id": "UPcGbb1msucF",
        "outputId": "49a3f8da-2025-4d56-9c9b-c9dedcf91757"
      },
      "source": [
        "# 파이썬 연결리스트 자료구조(파이썬은 그냥 리스트를 사용해라)\n",
        "\n",
        "class Node: #연결 리스트 구서으이 실제 데이터 모습은 데이터 + 다음데이터 포인터\n",
        "  def __init__(self, data, next = None): # 다음 주소 초기값을 None\n",
        "    self.data = data\n",
        "    self.next = next\n",
        "    \n",
        "node1 = Node(1)  # data = 1\n",
        "\n",
        "print(node1.data)\n",
        "print(node1.next)"
      ],
      "execution_count": 16,
      "outputs": [
        {
          "output_type": "stream",
          "name": "stdout",
          "text": [
            "1\n",
            "None\n"
          ]
        }
      ]
    },
    {
      "cell_type": "code",
      "metadata": {
        "colab": {
          "base_uri": "https://localhost:8080/"
        },
        "id": "iIKJyTgYy2OV",
        "outputId": "cc633fbe-26cc-42ac-da3b-6704fadf0f49"
      },
      "source": [
        "node2 = Node(3)\n",
        "print(node2.data)\n",
        "print(node2.next)\n",
        "\n",
        "node1.next = node2 # node1다음 node2 링크 연결"
      ],
      "execution_count": 18,
      "outputs": [
        {
          "output_type": "stream",
          "name": "stdout",
          "text": [
            "3\n",
            "None\n"
          ]
        }
      ]
    },
    {
      "cell_type": "code",
      "metadata": {
        "colab": {
          "base_uri": "https://localhost:8080/"
        },
        "id": "rMRxsixzzAxI",
        "outputId": "f2aafe64-0eea-4e58-c45f-0f76f0e54fd1"
      },
      "source": [
        "print(node1.data)\n",
        "print(node1.next)"
      ],
      "execution_count": 19,
      "outputs": [
        {
          "output_type": "stream",
          "name": "stdout",
          "text": [
            "1\n",
            "<__main__.Node object at 0x7f50932647d0>\n"
          ]
        }
      ]
    },
    {
      "cell_type": "code",
      "metadata": {
        "colab": {
          "base_uri": "https://localhost:8080/"
        },
        "id": "4wJcA6kPzJrt",
        "outputId": "bb6f2266-1875-42b3-b16e-e9dce6c63889"
      },
      "source": [
        "print(node1.next.data)  # node2 값 출력\n",
        "print(node2.data)"
      ],
      "execution_count": 21,
      "outputs": [
        {
          "output_type": "stream",
          "name": "stdout",
          "text": [
            "3\n",
            "3\n"
          ]
        }
      ]
    },
    {
      "cell_type": "code",
      "metadata": {
        "colab": {
          "base_uri": "https://localhost:8080/"
        },
        "id": "L3ZnCXAZzX5s",
        "outputId": "0802b598-2364-477c-c600-d957967ae5f4"
      },
      "source": [
        "class Node:\n",
        "  def __init__(self, data, next = None):\n",
        "    self.data = data\n",
        "    self.next = next\n",
        "\n",
        "\n",
        "def add(data):\n",
        "  node = head\n",
        "  while node.next: # node의 next가 있을 경우만 실행\n",
        "    node = node.next #다음 노드가 있는지 계속 반복 \n",
        "  node.next = Node(data) # 다음 노드가 없을 경우 새로운 노드 생성\n",
        "\n",
        "node1 = Node(1)\n",
        "head = node1\n",
        "\n",
        "add(3)\n",
        "print(node1.next.data)"
      ],
      "execution_count": 32,
      "outputs": [
        {
          "output_type": "stream",
          "name": "stdout",
          "text": [
            "3\n"
          ]
        }
      ]
    },
    {
      "cell_type": "code",
      "metadata": {
        "id": "iCGA4SFV2BH1"
      },
      "source": [
        "add(4)\n",
        "add(5)"
      ],
      "execution_count": 33,
      "outputs": []
    },
    {
      "cell_type": "code",
      "metadata": {
        "colab": {
          "base_uri": "https://localhost:8080/"
        },
        "id": "nfRebVrC2rJ2",
        "outputId": "6f012aa2-2ae1-4cc4-ddb7-e54e96563035"
      },
      "source": [
        "node = head\n",
        "while node.next: # 있는 경우만 실행\n",
        "  print(node.data)\n",
        "  node = node.next\n",
        "print(node.data)"
      ],
      "execution_count": 34,
      "outputs": [
        {
          "output_type": "stream",
          "name": "stdout",
          "text": [
            "1\n",
            "3\n",
            "4\n",
            "5\n"
          ]
        }
      ]
    },
    {
      "cell_type": "code",
      "metadata": {
        "id": "KzuV4PSY28vz"
      },
      "source": [
        ""
      ],
      "execution_count": null,
      "outputs": []
    }
  ]
}